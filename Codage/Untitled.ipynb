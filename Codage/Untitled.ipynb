{
 "cells": [
  {
   "cell_type": "markdown",
   "metadata": {},
   "source": [
    "# import sys\n",
    "from pprint import pprint\n",
    "import numpy as np\n",
    "import math\n",
    "\n",
    "def init():\n",
    "\n",
    "\tnbUser = int(sys.argv[1])\n",
    "\n",
    "\ttaille=1;\n",
    "\t\n",
    "\twhile(nbUser > 1):\n",
    "\t\tnbUser = nbUser / 2\n",
    "\t\ttaille += 1\n",
    "\treturn taille\n",
    "\n",
    "\n",
    "def hadamard(taille):\n",
    "\tif (taille == 0):\n",
    "\t\treturn np.ones([1,1])\n",
    "\tmatInf = hadamard(taille-1)\n",
    "\n",
    "\tt = pow(2,taille)\n",
    "\tmatRet = np.zeros([t,t])\n",
    "\tl = pow(2,taille-1)\n",
    "\tfor i in range(t):\n",
    "\t\tfor j in range(t):\t\t\t\n",
    "\t\t\tif not((i>l-1) and (j>l-1)):\n",
    "\t\t\t \t\n",
    "\t\t\t\tmatRet[i,j] = matInf[i%l,j%l]\n",
    "\t\t\telse:\n",
    "\t\t\t\tmatRet[i,j] = matInf[i%l,j%l]*-1\n",
    "\treturn matRet\n",
    "\n",
    "def affiche(mat):\n",
    "\tt = int(math.sqrt(mat.size))\n",
    "\tmat = np.asarray(mat)\n",
    "\tprint(mat)\n",
    "\tfor i in range(t):\n",
    "\t\tfor j in range(t):\t\n",
    "\t\t\tprint(mat[i,j])\t\n",
    "\t\n",
    "print(hadamard(init()))"
   ]
  },
  {
   "cell_type": "code",
   "execution_count": 8,
   "metadata": {
    "collapsed": false
   },
   "outputs": [
    {
     "name": "stdout",
     "output_type": "stream",
     "text": [
      "test\n",
      "test\n"
     ]
    },
    {
     "name": "stderr",
     "output_type": "stream",
     "text": [
      "Exception in thread Thread-17:\n",
      "Traceback (most recent call last):\n",
      "  File \"/usr/local/Cellar/python3/3.5.1/Frameworks/Python.framework/Versions/3.5/lib/python3.5/threading.py\", line 914, in _bootstrap_inner\n",
      "    self.run()\n",
      "  File \"<ipython-input-8-7d5ccf581b5d>\", line 13, in run\n",
      "    wait(1)\n",
      "NameError: name 'wait' is not defined\n",
      "\n",
      "Exception in thread Thread-16:\n",
      "Traceback (most recent call last):\n",
      "  File \"/usr/local/Cellar/python3/3.5.1/Frameworks/Python.framework/Versions/3.5/lib/python3.5/threading.py\", line 914, in _bootstrap_inner\n",
      "    self.run()\n",
      "  File \"<ipython-input-8-7d5ccf581b5d>\", line 13, in run\n",
      "    wait(1)\n",
      "NameError: name 'wait' is not defined\n",
      "\n"
     ]
    },
    {
     "ename": "AttributeError",
     "evalue": "type object 'Thread' has no attribute 'terminate'",
     "output_type": "error",
     "traceback": [
      "\u001b[0;31m---------------------------------------------------------------------------\u001b[0m",
      "\u001b[0;31mAttributeError\u001b[0m                            Traceback (most recent call last)",
      "\u001b[0;32m<ipython-input-8-7d5ccf581b5d>\u001b[0m in \u001b[0;36m<module>\u001b[0;34m()\u001b[0m\n\u001b[1;32m     21\u001b[0m \u001b[0mb\u001b[0m\u001b[0;34m.\u001b[0m\u001b[0mstart\u001b[0m\u001b[0;34m(\u001b[0m\u001b[0;34m)\u001b[0m\u001b[0;34m\u001b[0m\u001b[0m\n\u001b[1;32m     22\u001b[0m \u001b[0;34m\u001b[0m\u001b[0m\n\u001b[0;32m---> 23\u001b[0;31m \u001b[0ma\u001b[0m\u001b[0;34m.\u001b[0m\u001b[0mdestroy\u001b[0m\u001b[0;34m(\u001b[0m\u001b[0;34m)\u001b[0m\u001b[0;34m\u001b[0m\u001b[0m\n\u001b[0m\u001b[1;32m     24\u001b[0m \u001b[0;34m\u001b[0m\u001b[0m\n\u001b[1;32m     25\u001b[0m \u001b[0ma\u001b[0m\u001b[0;34m.\u001b[0m\u001b[0mjoin\u001b[0m\u001b[0;34m(\u001b[0m\u001b[0;34m)\u001b[0m\u001b[0;34m\u001b[0m\u001b[0m\n",
      "\u001b[0;32m<ipython-input-8-7d5ccf581b5d>\u001b[0m in \u001b[0;36mdestroy\u001b[0;34m(self)\u001b[0m\n\u001b[1;32m     13\u001b[0m             \u001b[0mwait\u001b[0m\u001b[0;34m(\u001b[0m\u001b[0;36m1\u001b[0m\u001b[0;34m)\u001b[0m\u001b[0;34m\u001b[0m\u001b[0m\n\u001b[1;32m     14\u001b[0m     \u001b[0;32mdef\u001b[0m \u001b[0mdestroy\u001b[0m\u001b[0;34m(\u001b[0m\u001b[0mself\u001b[0m\u001b[0;34m)\u001b[0m\u001b[0;34m:\u001b[0m\u001b[0;34m\u001b[0m\u001b[0m\n\u001b[0;32m---> 15\u001b[0;31m         \u001b[0mThread\u001b[0m\u001b[0;34m.\u001b[0m\u001b[0mterminate\u001b[0m\u001b[0;34m(\u001b[0m\u001b[0;34m)\u001b[0m\u001b[0;34m\u001b[0m\u001b[0m\n\u001b[0m\u001b[1;32m     16\u001b[0m \u001b[0;34m\u001b[0m\u001b[0m\n\u001b[1;32m     17\u001b[0m \u001b[0ma\u001b[0m \u001b[0;34m=\u001b[0m \u001b[0mAgent\u001b[0m\u001b[0;34m(\u001b[0m\u001b[0;34m\"1\"\u001b[0m\u001b[0;34m)\u001b[0m\u001b[0;34m\u001b[0m\u001b[0m\n",
      "\u001b[0;31mAttributeError\u001b[0m: type object 'Thread' has no attribute 'terminate'"
     ]
    }
   ],
   "source": [
    "from threading import Thread\n",
    "\n",
    "class Agent(Thread):\n",
    "    \n",
    "    def __init__(self, lettre):\n",
    "\n",
    "        Thread.__init__(self)\n",
    "\n",
    "        self.numero = lettre\n",
    "    def run(self):\n",
    "        while True:\n",
    "            print(\"test\")\n",
    "            wait(1)\n",
    "    def destroy(self):\n",
    "        Thread.terminate()\n",
    "        \n",
    "a = Agent(\"1\")\n",
    "b = Agent(\"2\")\n",
    "\n",
    "a.start()\n",
    "b.start()\n",
    "\n",
    "a.destroy()\n",
    "\n",
    "a.join()\n",
    "b.join()"
   ]
  },
  {
   "cell_type": "code",
   "execution_count": null,
   "metadata": {
    "collapsed": true
   },
   "outputs": [],
   "source": [
    "\n",
    "\n",
    "def AP():\n",
    "    "
   ]
  }
 ],
 "metadata": {
  "kernelspec": {
   "display_name": "Python 3",
   "language": "python",
   "name": "python3"
  },
  "language_info": {
   "codemirror_mode": {
    "name": "ipython",
    "version": 3
   },
   "file_extension": ".py",
   "mimetype": "text/x-python",
   "name": "python",
   "nbconvert_exporter": "python",
   "pygments_lexer": "ipython3",
   "version": "3.5.1"
  }
 },
 "nbformat": 4,
 "nbformat_minor": 0
}
