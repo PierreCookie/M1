{
 "cells": [
  {
   "cell_type": "markdown",
   "metadata": {},
   "source": [
    "# import sys\n",
    "from pprint import pprint\n",
    "import numpy as np\n",
    "import math\n",
    "\n",
    "def init():\n",
    "\n",
    "\tnbUser = int(sys.argv[1])\n",
    "\n",
    "\ttaille=1;\n",
    "\t\n",
    "\twhile(nbUser > 1):\n",
    "\t\tnbUser = nbUser / 2\n",
    "\t\ttaille += 1\n",
    "\treturn taille\n",
    "\n",
    "\n",
    "def hadamard(taille):\n",
    "\tif (taille == 0):\n",
    "\t\treturn np.ones([1,1])\n",
    "\tmatInf = hadamard(taille-1)\n",
    "\n",
    "\tt = pow(2,taille)\n",
    "\tmatRet = np.zeros([t,t])\n",
    "\tl = pow(2,taille-1)\n",
    "\tfor i in range(t):\n",
    "\t\tfor j in range(t):\t\t\t\n",
    "\t\t\tif not((i>l-1) and (j>l-1)):\n",
    "\t\t\t \t\n",
    "\t\t\t\tmatRet[i,j] = matInf[i%l,j%l]\n",
    "\t\t\telse:\n",
    "\t\t\t\tmatRet[i,j] = matInf[i%l,j%l]*-1\n",
    "\treturn matRet\n",
    "\n",
    "def affiche(mat):\n",
    "\tt = int(math.sqrt(mat.size))\n",
    "\tmat = np.asarray(mat)\n",
    "\tprint(mat)\n",
    "\tfor i in range(t):\n",
    "\t\tfor j in range(t):\t\n",
    "\t\t\tprint(mat[i,j])\t\n",
    "\t\n",
    "print(hadamard(init()))"
   ]
  },
  {
   "cell_type": "code",
   "execution_count": null,
   "metadata": {
    "collapsed": true
   },
   "outputs": [],
   "source": []
  }
 ],
 "metadata": {
  "kernelspec": {
   "display_name": "Python 3",
   "language": "python",
   "name": "python3"
  },
  "language_info": {
   "codemirror_mode": {
    "name": "ipython",
    "version": 3
   },
   "file_extension": ".py",
   "mimetype": "text/x-python",
   "name": "python",
   "nbconvert_exporter": "python",
   "pygments_lexer": "ipython3",
   "version": "3.5.2"
  }
 },
 "nbformat": 4,
 "nbformat_minor": 0
}
