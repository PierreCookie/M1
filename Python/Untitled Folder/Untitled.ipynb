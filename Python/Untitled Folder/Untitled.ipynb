{
 "cells": [
  {
   "cell_type": "code",
   "execution_count": 2,
   "metadata": {
    "collapsed": true
   },
   "outputs": [],
   "source": [
    "#Kunkel Pierre\n",
    "#\n",
    "# A definir \n",
    "#\n",
    "#\n",
    "#\n",
    "#"
   ]
  },
  {
   "cell_type": "code",
   "execution_count": 3,
   "metadata": {
    "collapsed": false,
    "scrolled": true
   },
   "outputs": [
    {
     "name": "stdout",
     "output_type": "stream",
     "text": [
      "[[-1  1 -1 ..., -1  1  1]\n",
      " [-1  1 -1 ..., -1  0  1]\n",
      " [ 0 -1 -1 ...,  1  1 -1]\n",
      " ..., \n",
      " [-1  1 -1 ..., -1  0 -1]\n",
      " [ 1  1 -1 ..., -1 -1 -1]\n",
      " [ 1 -1 -1 ..., -1 -1 -1]]\n",
      "335\n"
     ]
    }
   ],
   "source": [
    "# Partie 1 : Extraction et traitement des données\n",
    "import matplotlib.pyplot as plt\n",
    "import numpy as np \n",
    "import math\n",
    "\n",
    "response = open('house-votes-84.data').read()\n",
    "response = response.replace('\\n',',')\n",
    "\n",
    "# Transformation des données :\n",
    "# Démocrate -> -1\n",
    "# Républicain -> 1\n",
    "# y -> 1, n -> -1, ? -> 0 \n",
    "\n",
    "response = response.replace('democrat','-1')\n",
    "response = response.replace('republican','1')\n",
    "response = response.replace('y','1')\n",
    "response = response.replace('n','-1')\n",
    "response = response.replace('?','0')\n",
    "response = response.split(',')\n",
    "response.pop()\n",
    "response = np.reshape(response,(-1,17)).astype(int)\n",
    "response = np.reshape(np.c_[response,np.ones(len(response))],(-1,18))\n",
    "dataTrain = response[0:335,]\n",
    "\n",
    "for i in range(len(dataTrain)):\n",
    "    if(dataTrain[i,0]==-1):\n",
    "        dataTrain[i] = dataTrain[i].dot(-1) \n",
    "    \n",
    "dataTrain = dataTrain[:,1:18].astype(int)\n",
    "print(dataTrain)\n",
    "print(len(dataTrain))"
   ]
  },
  {
   "cell_type": "code",
   "execution_count": 4,
   "metadata": {
    "collapsed": false
   },
   "outputs": [],
   "source": [
    "def classify(poids,data):\n",
    "    somme = np.inner(poids,data)\n",
    "    if somme<0 :\n",
    "        return -1\n",
    "    return 1\n"
   ]
  },
  {
   "cell_type": "code",
   "execution_count": 5,
   "metadata": {
    "collapsed": false
   },
   "outputs": [
    {
     "name": "stdout",
     "output_type": "stream",
     "text": [
      "[ -3   2  -8  13  -2 -12   4  -4   0  -4   1   4   0   0 -12  -2  -5]\n"
     ]
    }
   ],
   "source": [
    "# Partie 2 : ecrire une fonction classify qui permet de donner l’etiquette d’une observation a partir d’un vecteur de poids\n",
    "def choixPoidNonCyclique(poids):\n",
    "    x = 0\n",
    "    valide = True\n",
    "    while(valide):\n",
    "        #print(\"Iteration \",x)\n",
    "        #print(\"POIDS  : \",poids)\n",
    "        valide = False\n",
    "        for i in range(len(dataTrain)):\n",
    "            somme = classify(poids,dataTrain[i])\n",
    "            if somme<0:\n",
    "                #print(\"ERREUR : \",dataTrain[i])\n",
    "                \n",
    "                \n",
    "                poids += dataTrain[i]\n",
    "                valide = True\n",
    "                x+=1\n",
    "                #print(\"arret elem \", i)\n",
    "                if x==100:\n",
    "                    valide = False\n",
    "                break\n",
    "    return poids    \n",
    "            \n",
    "        \n",
    "print(choixPoidNonCyclique([0,0,0,0,0,0,0,0,0,0,0,0,0,0,0,0,1]))"
   ]
  },
  {
   "cell_type": "code",
   "execution_count": 29,
   "metadata": {
    "collapsed": false
   },
   "outputs": [],
   "source": [
    "def choixPoidEpoque(poids):\n",
    "    x = []\n",
    "    valide = True\n",
    "    last =100\n",
    "    while(valide):\n",
    "        #print(\"Epoque \",len(x))\n",
    "        erreur = 0\n",
    "        lambdaa=1/math.log2(len(x)+2)\n",
    "        valide = False\n",
    "        #print(lambdaa)\n",
    "        for i in range(len(dataTrain)):\n",
    "            somme = classify(poids,dataTrain[i])\n",
    "            if somme<0:\n",
    "                #print(\"    POIDS  : \",poids)\n",
    "                #print(\"    ERREUR : \",dataTrain[i])\n",
    "                #print(\"    SOMME  : \",poids*dataTrain[i], \" -> \",somme)\n",
    "                 \n",
    "                poids += dataTrain[i].dot(lambdaa)\n",
    "                valide = True\n",
    "                erreur+=1\n",
    "        x.append(erreur)\n",
    "        moy= np.asmatrix(x).mean()\n",
    "        if(math.fabs(last-moy)<0.01):\n",
    "            valide=False\n",
    "        else:\n",
    "            \n",
    "            last = moy\n",
    "            \n",
    "        print(last-moy)\n",
    "        #print(\"Taux d'erreur \",erreur)\n",
    "    return x    "
   ]
  },
  {
   "cell_type": "code",
   "execution_count": null,
   "metadata": {
    "collapsed": false,
    "scrolled": true
   },
   "outputs": [
    {
     "name": "stdout",
     "output_type": "stream",
     "text": [
      "0.0\n",
      "0.0\n",
      "0.0\n",
      "0.0\n",
      "0.0\n",
      "0.0\n",
      "0.0\n",
      "0.0\n",
      "0.0\n",
      "0.0\n",
      "0.0\n",
      "0.0\n",
      "0.0\n",
      "0.0\n",
      "0.0\n",
      "0.0\n",
      "0.0\n",
      "0.0\n",
      "0.0\n",
      "0.0\n",
      "0.0\n",
      "-0.0021645021645\n",
      "22\n"
     ]
    }
   ],
   "source": [
    "test = choixPoidEpoque([0,0,0,0,0,0,0,0,0,0,0,0,0,0,0,0,1])\n",
    "print(len(test))\n",
    "plt.plot(test)\n",
    "plt.show()"
   ]
  },
  {
   "cell_type": "code",
   "execution_count": null,
   "metadata": {
    "collapsed": true
   },
   "outputs": [],
   "source": []
  }
 ],
 "metadata": {
  "kernelspec": {
   "display_name": "Python 3",
   "language": "python",
   "name": "python3"
  },
  "language_info": {
   "codemirror_mode": {
    "name": "ipython",
    "version": 3
   },
   "file_extension": ".py",
   "mimetype": "text/x-python",
   "name": "python",
   "nbconvert_exporter": "python",
   "pygments_lexer": "ipython3",
   "version": "3.5.2"
  }
 },
 "nbformat": 4,
 "nbformat_minor": 0
}
