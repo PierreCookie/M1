{
 "cells": [
  {
   "cell_type": "code",
   "execution_count": null,
   "metadata": {
    "collapsed": true
   },
   "outputs": [],
   "source": [
    "#Kunkel Pierre"
   ]
  },
  {
   "cell_type": "code",
   "execution_count": 63,
   "metadata": {
    "collapsed": false,
    "scrolled": true
   },
   "outputs": [
    {
     "name": "stdout",
     "output_type": "stream",
     "text": [
      "[['1' '-1' '1' ..., '1' '-1' '1']\n",
      " ['1' '-1' '1' ..., '1' '-1' '0']\n",
      " ['-1' '0' '1' ..., '1' '-1' '-1']\n",
      " ..., \n",
      " ['1' '-1' '0' ..., '1' '-1' '1']\n",
      " ['1' '-1' '-1' ..., '1' '-1' '1']\n",
      " ['1' '-1' '1' ..., '1' '0' '-1']]\n"
     ]
    }
   ],
   "source": [
    "import requests\n",
    "import numpy as np \n",
    "response = requests.get('https://archive.ics.uci.edu/ml/machine-learning-databases/voting-records/house-votes-84.data')\n",
    "response = response.text.replace('\\n',',')\n",
    "\n",
    "response = response.replace('democrat','-1')\n",
    "response = response.replace('republican','1')\n",
    "response = response.replace('y','1')\n",
    "response = response.replace('n','-1')\n",
    "response = response.replace('?','0')\n",
    "response = response.split(',')\n",
    "response.pop()\n",
    "response = np.reshape(response,(-1,17))\n",
    "\n",
    "print(response)"
   ]
  },
  {
   "cell_type": "code",
   "execution_count": null,
   "metadata": {
    "collapsed": true
   },
   "outputs": [],
   "source": []
  },
  {
   "cell_type": "code",
   "execution_count": null,
   "metadata": {
    "collapsed": true
   },
   "outputs": [],
   "source": []
  }
 ],
 "metadata": {
  "kernelspec": {
   "display_name": "Python 3",
   "language": "python",
   "name": "python3"
  },
  "language_info": {
   "codemirror_mode": {
    "name": "ipython",
    "version": 3
   },
   "file_extension": ".py",
   "mimetype": "text/x-python",
   "name": "python",
   "nbconvert_exporter": "python",
   "pygments_lexer": "ipython3",
   "version": "3.5.2"
  }
 },
 "nbformat": 4,
 "nbformat_minor": 0
}
